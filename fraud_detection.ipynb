{
 "cells": [
  {
   "cell_type": "code",
   "execution_count": 1,
   "id": "c9eb7547-84f8-4c02-930c-6985cf095545",
   "metadata": {},
   "outputs": [],
   "source": [
    "import numpy as np\n",
    "import pandas as pd \n",
    "import statsmodels.api as sm\n",
    "import statsmodels.formula.api as smf\n",
    "import seaborn as sns\n",
    "from sklearn.preprocessing import scale \n",
    "from sklearn.model_selection import train_test_split, GridSearchCV, cross_val_score\n",
    "import statsmodels.formula.api as smf\n",
    "import matplotlib.pyplot as plt\n",
    "from sklearn.discriminant_analysis import LinearDiscriminantAnalysis\n",
    "from sklearn.linear_model import LogisticRegression\n",
    "from sklearn.svm import SVC\n",
    "from sklearn.preprocessing import StandardScaler\n",
    "from sklearn.metrics import mean_squared_error, r2_score\n",
    "from sklearn.linear_model import LinearRegression\n",
    "from sklearn import model_selection\n",
    "from warnings import filterwarnings\n",
    "filterwarnings('ignore')\n",
    "import json"
   ]
  },
  {
   "cell_type": "code",
   "execution_count": 2,
   "id": "f0466c4c-59c0-4368-8504-59ee77c3b8b3",
   "metadata": {},
   "outputs": [],
   "source": [
    "card = pd.read_csv('cards_data.csv')\n",
    "tr = pd.read_csv('transactions_data.csv')\n",
    "users = pd.read_csv('users_data.csv')"
   ]
  },
  {
   "cell_type": "code",
   "execution_count": 3,
   "id": "a0e7fa0a-a181-4df2-9609-1f59ee852cb8",
   "metadata": {},
   "outputs": [],
   "source": [
    "with open('mcc_codes.json', 'r') as file:\n",
    "    codes = json.load(file)\n",
    "\n",
    "with open('train_fraud_labels.json', 'r') as file:\n",
    "    fraud = json.load(file)"
   ]
  },
  {
   "cell_type": "code",
   "execution_count": 4,
   "id": "860d98a9-4a47-45a3-8c7a-1239358170af",
   "metadata": {},
   "outputs": [
    {
     "data": {
      "text/html": [
       "<div>\n",
       "<style scoped>\n",
       "    .dataframe tbody tr th:only-of-type {\n",
       "        vertical-align: middle;\n",
       "    }\n",
       "\n",
       "    .dataframe tbody tr th {\n",
       "        vertical-align: top;\n",
       "    }\n",
       "\n",
       "    .dataframe thead th {\n",
       "        text-align: right;\n",
       "    }\n",
       "</style>\n",
       "<table border=\"1\" class=\"dataframe\">\n",
       "  <thead>\n",
       "    <tr style=\"text-align: right;\">\n",
       "      <th></th>\n",
       "      <th>id</th>\n",
       "      <th>Status</th>\n",
       "    </tr>\n",
       "  </thead>\n",
       "  <tbody>\n",
       "    <tr>\n",
       "      <th>0</th>\n",
       "      <td>10649266</td>\n",
       "      <td>No</td>\n",
       "    </tr>\n",
       "    <tr>\n",
       "      <th>1</th>\n",
       "      <td>23410063</td>\n",
       "      <td>No</td>\n",
       "    </tr>\n",
       "    <tr>\n",
       "      <th>2</th>\n",
       "      <td>9316588</td>\n",
       "      <td>No</td>\n",
       "    </tr>\n",
       "    <tr>\n",
       "      <th>3</th>\n",
       "      <td>12478022</td>\n",
       "      <td>No</td>\n",
       "    </tr>\n",
       "    <tr>\n",
       "      <th>4</th>\n",
       "      <td>9558530</td>\n",
       "      <td>No</td>\n",
       "    </tr>\n",
       "  </tbody>\n",
       "</table>\n",
       "</div>"
      ],
      "text/plain": [
       "         id Status\n",
       "0  10649266     No\n",
       "1  23410063     No\n",
       "2   9316588     No\n",
       "3  12478022     No\n",
       "4   9558530     No"
      ]
     },
     "execution_count": 4,
     "metadata": {},
     "output_type": "execute_result"
    }
   ],
   "source": [
    "fraud_id = list(fraud['target'].keys())\n",
    "fraud_status = list(fraud['target'].values())\n",
    "\n",
    "df1 = pd.DataFrame({\"id\": fraud_id, 'Status': fraud_status})\n",
    "df1.head()"
   ]
  },
  {
   "cell_type": "code",
   "execution_count": 5,
   "id": "b71aa775-9ce7-49b5-a1ea-18e038aba5b8",
   "metadata": {},
   "outputs": [
    {
     "data": {
      "text/html": [
       "<div>\n",
       "<style scoped>\n",
       "    .dataframe tbody tr th:only-of-type {\n",
       "        vertical-align: middle;\n",
       "    }\n",
       "\n",
       "    .dataframe tbody tr th {\n",
       "        vertical-align: top;\n",
       "    }\n",
       "\n",
       "    .dataframe thead th {\n",
       "        text-align: right;\n",
       "    }\n",
       "</style>\n",
       "<table border=\"1\" class=\"dataframe\">\n",
       "  <thead>\n",
       "    <tr style=\"text-align: right;\">\n",
       "      <th></th>\n",
       "      <th>mcc</th>\n",
       "      <th>Name</th>\n",
       "    </tr>\n",
       "  </thead>\n",
       "  <tbody>\n",
       "    <tr>\n",
       "      <th>0</th>\n",
       "      <td>5812</td>\n",
       "      <td>Eating Places and Restaurants</td>\n",
       "    </tr>\n",
       "    <tr>\n",
       "      <th>1</th>\n",
       "      <td>5541</td>\n",
       "      <td>Service Stations</td>\n",
       "    </tr>\n",
       "    <tr>\n",
       "      <th>2</th>\n",
       "      <td>7996</td>\n",
       "      <td>Amusement Parks, Carnivals, Circuses</td>\n",
       "    </tr>\n",
       "    <tr>\n",
       "      <th>3</th>\n",
       "      <td>5411</td>\n",
       "      <td>Grocery Stores, Supermarkets</td>\n",
       "    </tr>\n",
       "    <tr>\n",
       "      <th>4</th>\n",
       "      <td>4784</td>\n",
       "      <td>Tolls and Bridge Fees</td>\n",
       "    </tr>\n",
       "  </tbody>\n",
       "</table>\n",
       "</div>"
      ],
      "text/plain": [
       "    mcc                                  Name\n",
       "0  5812         Eating Places and Restaurants\n",
       "1  5541                      Service Stations\n",
       "2  7996  Amusement Parks, Carnivals, Circuses\n",
       "3  5411          Grocery Stores, Supermarkets\n",
       "4  4784                 Tolls and Bridge Fees"
      ]
     },
     "execution_count": 5,
     "metadata": {},
     "output_type": "execute_result"
    }
   ],
   "source": [
    "code = list(codes.keys())\n",
    "name = list(codes.values())\n",
    "\n",
    "df2 = pd.DataFrame({'mcc': code, 'Name': name})\n",
    "df2.head()"
   ]
  },
  {
   "cell_type": "code",
   "execution_count": null,
   "id": "8df25989-d4cb-43fc-a956-c481d6d5a6dc",
   "metadata": {},
   "outputs": [],
   "source": []
  },
  {
   "cell_type": "code",
   "execution_count": 6,
   "id": "f401331d-b613-4ed3-b01e-fa9166b6dd05",
   "metadata": {},
   "outputs": [
    {
     "name": "stdout",
     "output_type": "stream",
     "text": [
      "<class 'pandas.core.frame.DataFrame'>\n",
      "RangeIndex: 6146 entries, 0 to 6145\n",
      "Data columns (total 13 columns):\n",
      " #   Column                 Non-Null Count  Dtype \n",
      "---  ------                 --------------  ----- \n",
      " 0   id                     6146 non-null   int64 \n",
      " 1   client_id              6146 non-null   int64 \n",
      " 2   card_brand             6146 non-null   object\n",
      " 3   card_type              6146 non-null   object\n",
      " 4   card_number            6146 non-null   int64 \n",
      " 5   expires                6146 non-null   object\n",
      " 6   cvv                    6146 non-null   int64 \n",
      " 7   has_chip               6146 non-null   object\n",
      " 8   num_cards_issued       6146 non-null   int64 \n",
      " 9   credit_limit           6146 non-null   object\n",
      " 10  acct_open_date         6146 non-null   object\n",
      " 11  year_pin_last_changed  6146 non-null   int64 \n",
      " 12  card_on_dark_web       6146 non-null   object\n",
      "dtypes: int64(6), object(7)\n",
      "memory usage: 624.3+ KB\n"
     ]
    }
   ],
   "source": [
    "card.info()"
   ]
  },
  {
   "cell_type": "code",
   "execution_count": 7,
   "id": "65b715b2-e7aa-4ca2-b088-3065fabb2bd2",
   "metadata": {},
   "outputs": [
    {
     "name": "stdout",
     "output_type": "stream",
     "text": [
      "card_brand\n",
      "Mastercard    3209\n",
      "Visa          2326\n",
      "Amex           402\n",
      "Discover       209\n",
      "Name: count, dtype: int64\n",
      "********************************************************************************\n",
      "card_type\n",
      "Debit              3511\n",
      "Credit             2057\n",
      "Debit (Prepaid)     578\n",
      "Name: count, dtype: int64\n",
      "********************************************************************************\n",
      "expires\n",
      "02/2020    377\n",
      "01/2020    130\n",
      "03/2020     93\n",
      "10/2024     93\n",
      "03/2024     93\n",
      "          ... \n",
      "01/2002      1\n",
      "07/1997      1\n",
      "07/2005      1\n",
      "06/2001      1\n",
      "05/2006      1\n",
      "Name: count, Length: 259, dtype: int64\n",
      "********************************************************************************\n",
      "has_chip\n",
      "YES    5500\n",
      "NO      646\n",
      "Name: count, dtype: int64\n",
      "********************************************************************************\n",
      "credit_limit\n",
      "$0        31\n",
      "$8000     25\n",
      "$8700     25\n",
      "$8500     24\n",
      "$9300     24\n",
      "          ..\n",
      "$11696     1\n",
      "$10198     1\n",
      "$5716      1\n",
      "$16872     1\n",
      "$28074     1\n",
      "Name: count, Length: 3654, dtype: int64\n",
      "********************************************************************************\n",
      "acct_open_date\n",
      "02/2020    607\n",
      "01/2020    571\n",
      "02/2010     65\n",
      "09/2009     51\n",
      "05/2010     50\n",
      "          ... \n",
      "04/1993      1\n",
      "12/1991      1\n",
      "01/1991      1\n",
      "11/1992      1\n",
      "04/1996      1\n",
      "Name: count, Length: 303, dtype: int64\n",
      "********************************************************************************\n",
      "card_on_dark_web\n",
      "No    6146\n",
      "Name: count, dtype: int64\n",
      "********************************************************************************\n"
     ]
    }
   ],
   "source": [
    "for i in card.select_dtypes(include='object').columns:\n",
    "    print(card[i].value_counts())\n",
    "    print('****'*20)"
   ]
  },
  {
   "cell_type": "code",
   "execution_count": 8,
   "id": "accffd92-98bf-41a2-af9f-ce1564cd340e",
   "metadata": {},
   "outputs": [],
   "source": [
    "card['credit_limit'] = card['credit_limit'].str.replace('$', '')"
   ]
  },
  {
   "cell_type": "code",
   "execution_count": 9,
   "id": "123fd290-41b3-4e39-9f6e-9cd64f1de699",
   "metadata": {},
   "outputs": [],
   "source": [
    "card['credit_limit'] = card['credit_limit'].astype(int)"
   ]
  },
  {
   "cell_type": "code",
   "execution_count": 10,
   "id": "7875028b-d7d6-4263-9cc5-0abb03d47fe0",
   "metadata": {},
   "outputs": [],
   "source": [
    "card['acct_open_date'] = pd.to_datetime(card['acct_open_date'])\n",
    "card['expires'] =pd.to_datetime(card['expires'])"
   ]
  },
  {
   "cell_type": "code",
   "execution_count": 11,
   "id": "26cf451f-742b-4151-864e-ac60de350670",
   "metadata": {},
   "outputs": [
    {
     "name": "stdout",
     "output_type": "stream",
     "text": [
      "<class 'pandas.core.frame.DataFrame'>\n",
      "RangeIndex: 6146 entries, 0 to 6145\n",
      "Data columns (total 13 columns):\n",
      " #   Column                 Non-Null Count  Dtype         \n",
      "---  ------                 --------------  -----         \n",
      " 0   id                     6146 non-null   int64         \n",
      " 1   client_id              6146 non-null   int64         \n",
      " 2   card_brand             6146 non-null   object        \n",
      " 3   card_type              6146 non-null   object        \n",
      " 4   card_number            6146 non-null   int64         \n",
      " 5   expires                6146 non-null   datetime64[ns]\n",
      " 6   cvv                    6146 non-null   int64         \n",
      " 7   has_chip               6146 non-null   object        \n",
      " 8   num_cards_issued       6146 non-null   int64         \n",
      " 9   credit_limit           6146 non-null   int32         \n",
      " 10  acct_open_date         6146 non-null   datetime64[ns]\n",
      " 11  year_pin_last_changed  6146 non-null   int64         \n",
      " 12  card_on_dark_web       6146 non-null   object        \n",
      "dtypes: datetime64[ns](2), int32(1), int64(6), object(4)\n",
      "memory usage: 600.3+ KB\n"
     ]
    }
   ],
   "source": [
    "card.info()"
   ]
  },
  {
   "cell_type": "code",
   "execution_count": 12,
   "id": "74303f3c-16f7-4a58-8c73-e923467c4166",
   "metadata": {},
   "outputs": [
    {
     "name": "stdout",
     "output_type": "stream",
     "text": [
      "<class 'pandas.core.frame.DataFrame'>\n",
      "RangeIndex: 2000 entries, 0 to 1999\n",
      "Data columns (total 14 columns):\n",
      " #   Column             Non-Null Count  Dtype  \n",
      "---  ------             --------------  -----  \n",
      " 0   id                 2000 non-null   int64  \n",
      " 1   current_age        2000 non-null   int64  \n",
      " 2   retirement_age     2000 non-null   int64  \n",
      " 3   birth_year         2000 non-null   int64  \n",
      " 4   birth_month        2000 non-null   int64  \n",
      " 5   gender             2000 non-null   object \n",
      " 6   address            2000 non-null   object \n",
      " 7   latitude           2000 non-null   float64\n",
      " 8   longitude          2000 non-null   float64\n",
      " 9   per_capita_income  2000 non-null   object \n",
      " 10  yearly_income      2000 non-null   object \n",
      " 11  total_debt         2000 non-null   object \n",
      " 12  credit_score       2000 non-null   int64  \n",
      " 13  num_credit_cards   2000 non-null   int64  \n",
      "dtypes: float64(2), int64(7), object(5)\n",
      "memory usage: 218.9+ KB\n"
     ]
    }
   ],
   "source": [
    "users.info()"
   ]
  },
  {
   "cell_type": "code",
   "execution_count": 13,
   "id": "1c678f84-bddc-4730-8416-cde8d2b887b9",
   "metadata": {},
   "outputs": [
    {
     "name": "stdout",
     "output_type": "stream",
     "text": [
      "gender\n",
      "Female    1016\n",
      "Male       984\n",
      "Name: count, dtype: int64\n",
      "********************************************************************************\n",
      "address\n",
      "506 Washington Lane      2\n",
      "462 Rose Lane            1\n",
      "4480 Hillside Avenue     1\n",
      "876 Main Avenue          1\n",
      "68 Sixth Avenue          1\n",
      "                        ..\n",
      "499 Lafayette Lane       1\n",
      "388 Third Street         1\n",
      "512 Tenth Street         1\n",
      "6840 North Lane          1\n",
      "472 Ocean View Street    1\n",
      "Name: count, Length: 1999, dtype: int64\n",
      "********************************************************************************\n",
      "per_capita_income\n",
      "$0        15\n",
      "$19382     4\n",
      "$13739     3\n",
      "$40364     3\n",
      "$21992     3\n",
      "          ..\n",
      "$17537     1\n",
      "$17584     1\n",
      "$24331     1\n",
      "$15138     1\n",
      "$32325     1\n",
      "Name: count, Length: 1754, dtype: int64\n",
      "********************************************************************************\n",
      "yearly_income\n",
      "$44128    3\n",
      "$44976    2\n",
      "$34954    2\n",
      "$42806    2\n",
      "$49967    2\n",
      "         ..\n",
      "$36081    1\n",
      "$72470    1\n",
      "$553      1\n",
      "$24884    1\n",
      "$65909    1\n",
      "Name: count, Length: 1948, dtype: int64\n",
      "********************************************************************************\n",
      "total_debt\n",
      "$0         102\n",
      "$23909       2\n",
      "$20196       2\n",
      "$51428       2\n",
      "$35268       2\n",
      "          ... \n",
      "$82622       1\n",
      "$35135       1\n",
      "$73448       1\n",
      "$130160      1\n",
      "$181261      1\n",
      "Name: count, Length: 1880, dtype: int64\n",
      "********************************************************************************\n"
     ]
    }
   ],
   "source": [
    "for i in users.select_dtypes(include='object').columns:\n",
    "    print(users[i].value_counts())\n",
    "    print('****'*20)"
   ]
  },
  {
   "cell_type": "code",
   "execution_count": 14,
   "id": "cf67b5f6-5644-4c27-9fb7-bbb83e86cc24",
   "metadata": {},
   "outputs": [],
   "source": [
    "users['per_capita_income'] = users['per_capita_income'].str.replace('$', '')"
   ]
  },
  {
   "cell_type": "code",
   "execution_count": 15,
   "id": "2273a2c1-260c-4963-be2c-a9f5c5cfaa0c",
   "metadata": {},
   "outputs": [],
   "source": [
    "users['per_capita_income'] = users['per_capita_income'].astype(int)"
   ]
  },
  {
   "cell_type": "code",
   "execution_count": 16,
   "id": "52fac2fb-eb23-46f1-84a2-731a36c0a5e8",
   "metadata": {},
   "outputs": [],
   "source": [
    "users['yearly_income'] = users['yearly_income'].str.replace('$', '')"
   ]
  },
  {
   "cell_type": "code",
   "execution_count": 17,
   "id": "430feb33-a225-4516-800e-fa4426d70d3c",
   "metadata": {},
   "outputs": [],
   "source": [
    "users['yearly_income'] = users['yearly_income'].astype(int)"
   ]
  },
  {
   "cell_type": "code",
   "execution_count": 18,
   "id": "08b3069d-c195-4e80-91af-18cb98f82bf3",
   "metadata": {},
   "outputs": [],
   "source": [
    "users['total_debt'] = users['total_debt'].str.replace('$', '')"
   ]
  },
  {
   "cell_type": "code",
   "execution_count": 19,
   "id": "91f72938-ed2b-4b96-80f7-3dd3c6ce688a",
   "metadata": {},
   "outputs": [],
   "source": [
    "users['total_debt'] = users['total_debt'].astype(int)"
   ]
  },
  {
   "cell_type": "code",
   "execution_count": null,
   "id": "df99ae54-de33-431b-8186-438b0d4a71dc",
   "metadata": {},
   "outputs": [],
   "source": []
  },
  {
   "cell_type": "code",
   "execution_count": 20,
   "id": "dcc621ca-e772-41e3-abdf-ad5df6b4b50b",
   "metadata": {},
   "outputs": [],
   "source": [
    "users_card = pd.merge(users, card, on = 'id', how = 'inner')"
   ]
  },
  {
   "cell_type": "code",
   "execution_count": null,
   "id": "8aecccad-0131-48e5-9803-3dab598bd1ef",
   "metadata": {},
   "outputs": [],
   "source": []
  },
  {
   "cell_type": "code",
   "execution_count": 21,
   "id": "3a1ca6e8-4d09-4b52-b6b6-f443ee445ea2",
   "metadata": {},
   "outputs": [
    {
     "name": "stdout",
     "output_type": "stream",
     "text": [
      "<class 'pandas.core.frame.DataFrame'>\n",
      "RangeIndex: 8914963 entries, 0 to 8914962\n",
      "Data columns (total 2 columns):\n",
      " #   Column  Dtype \n",
      "---  ------  ----- \n",
      " 0   id      object\n",
      " 1   Status  object\n",
      "dtypes: object(2)\n",
      "memory usage: 136.0+ MB\n"
     ]
    }
   ],
   "source": [
    "df1.info()"
   ]
  },
  {
   "cell_type": "code",
   "execution_count": 22,
   "id": "9240ee27-7dc7-4f4d-a872-a4d1f716e5ce",
   "metadata": {},
   "outputs": [],
   "source": [
    "df1['id'] = df1['id'].astype(int)"
   ]
  },
  {
   "cell_type": "code",
   "execution_count": 23,
   "id": "0490f397-e536-4e75-8971-70d769711f93",
   "metadata": {},
   "outputs": [
    {
     "name": "stdout",
     "output_type": "stream",
     "text": [
      "<class 'pandas.core.frame.DataFrame'>\n",
      "RangeIndex: 109 entries, 0 to 108\n",
      "Data columns (total 2 columns):\n",
      " #   Column  Non-Null Count  Dtype \n",
      "---  ------  --------------  ----- \n",
      " 0   mcc     109 non-null    object\n",
      " 1   Name    109 non-null    object\n",
      "dtypes: object(2)\n",
      "memory usage: 1.8+ KB\n"
     ]
    }
   ],
   "source": [
    "df2.info()"
   ]
  },
  {
   "cell_type": "code",
   "execution_count": 24,
   "id": "bba1f6a1-2c90-4b6a-b5e7-e0c051337c58",
   "metadata": {},
   "outputs": [],
   "source": [
    "df2['mcc'] = df2['mcc'].astype(int)"
   ]
  },
  {
   "cell_type": "code",
   "execution_count": null,
   "id": "dbcfaade-94b1-47f9-9e72-abf7b1b26d65",
   "metadata": {},
   "outputs": [],
   "source": []
  },
  {
   "cell_type": "code",
   "execution_count": 25,
   "id": "6affd34f-0d8e-4a18-ad6a-1bf092a2b7e1",
   "metadata": {},
   "outputs": [
    {
     "name": "stdout",
     "output_type": "stream",
     "text": [
      "<class 'pandas.core.frame.DataFrame'>\n",
      "RangeIndex: 13305915 entries, 0 to 13305914\n",
      "Data columns (total 12 columns):\n",
      " #   Column          Dtype  \n",
      "---  ------          -----  \n",
      " 0   id              int64  \n",
      " 1   date            object \n",
      " 2   client_id       int64  \n",
      " 3   card_id         int64  \n",
      " 4   amount          object \n",
      " 5   use_chip        object \n",
      " 6   merchant_id     int64  \n",
      " 7   merchant_city   object \n",
      " 8   merchant_state  object \n",
      " 9   zip             float64\n",
      " 10  mcc             int64  \n",
      " 11  errors          object \n",
      "dtypes: float64(1), int64(5), object(6)\n",
      "memory usage: 1.2+ GB\n"
     ]
    }
   ],
   "source": [
    "tr.info()"
   ]
  },
  {
   "cell_type": "code",
   "execution_count": 26,
   "id": "41f2c83a-bcd2-4830-9480-f8087468360b",
   "metadata": {},
   "outputs": [
    {
     "name": "stdout",
     "output_type": "stream",
     "text": [
      "date\n",
      "2011-06-09 12:46:00    18\n",
      "2016-03-03 11:42:00    18\n",
      "2018-07-18 09:38:00    17\n",
      "2015-11-08 09:03:00    17\n",
      "2018-08-18 11:43:00    17\n",
      "                       ..\n",
      "2015-03-20 04:30:00     1\n",
      "2015-03-20 04:19:00     1\n",
      "2015-03-20 04:13:00     1\n",
      "2015-03-20 04:11:00     1\n",
      "2019-10-31 23:59:00     1\n",
      "Name: count, Length: 4136496, dtype: int64\n",
      "********************************************************************************\n",
      "amount\n",
      "$80.00     132115\n",
      "$100.00    128867\n",
      "$60.00     101821\n",
      "$120.00     81083\n",
      "$40.00      56856\n",
      "            ...  \n",
      "$605.45         1\n",
      "$495.35         1\n",
      "$852.48         1\n",
      "$944.73         1\n",
      "$694.30         1\n",
      "Name: count, Length: 81161, dtype: int64\n",
      "********************************************************************************\n",
      "use_chip\n",
      "Swipe Transaction     6967185\n",
      "Chip Transaction      4780818\n",
      "Online Transaction    1557912\n",
      "Name: count, dtype: int64\n",
      "********************************************************************************\n",
      "merchant_city\n",
      "ONLINE          1563700\n",
      "Houston          146917\n",
      "Miami             87388\n",
      "Brooklyn          84020\n",
      "Los Angeles       82004\n",
      "                 ...   \n",
      "Mc Caskill            1\n",
      "Anchor Point          1\n",
      "Geddes                1\n",
      "Rimforest             1\n",
      "King Ferry            1\n",
      "Name: count, Length: 12492, dtype: int64\n",
      "********************************************************************************\n",
      "merchant_state\n",
      "CA                   1427087\n",
      "TX                   1010207\n",
      "NY                    857510\n",
      "FL                    701623\n",
      "OH                    484122\n",
      "                      ...   \n",
      "Equatorial Guinea          3\n",
      "Brunei                     3\n",
      "Solomon Islands            3\n",
      "Tonga                      2\n",
      "Azerbaijan                 2\n",
      "Name: count, Length: 199, dtype: int64\n",
      "********************************************************************************\n",
      "errors\n",
      "Insufficient Balance                                   130902\n",
      "Bad PIN                                                 32119\n",
      "Technical Glitch                                        26271\n",
      "Bad Card Number                                          7767\n",
      "Bad Expiration                                           6161\n",
      "Bad CVV                                                  6106\n",
      "Bad Zipcode                                              1126\n",
      "Bad PIN,Insufficient Balance                              293\n",
      "Insufficient Balance,Technical Glitch                     243\n",
      "Bad Card Number,Insufficient Balance                       71\n",
      "Bad PIN,Technical Glitch                                   70\n",
      "Bad CVV,Insufficient Balance                               57\n",
      "Bad Expiration,Insufficient Balance                        47\n",
      "Bad Card Number,Bad CVV                                    38\n",
      "Bad Card Number,Bad Expiration                             33\n",
      "Bad Expiration,Bad CVV                                     32\n",
      "Bad Expiration,Technical Glitch                            21\n",
      "Bad Card Number,Technical Glitch                           15\n",
      "Bad CVV,Technical Glitch                                    8\n",
      "Bad Zipcode,Insufficient Balance                            7\n",
      "Bad Zipcode,Technical Glitch                                5\n",
      "Bad Card Number,Bad Expiration,Insufficient Balance         1\n",
      "Name: count, dtype: int64\n",
      "********************************************************************************\n"
     ]
    }
   ],
   "source": [
    "for i in tr.select_dtypes(include='object').columns:\n",
    "    print(tr[i].value_counts())\n",
    "    print('****'*20)"
   ]
  },
  {
   "cell_type": "code",
   "execution_count": 27,
   "id": "b2b2d1f0-cacb-491e-8659-c7a23efe64d3",
   "metadata": {},
   "outputs": [],
   "source": [
    "tr['amount'] = tr['amount'].str.replace('$', '')"
   ]
  },
  {
   "cell_type": "code",
   "execution_count": 28,
   "id": "778147f3-4797-4d06-a6c5-0d315211b891",
   "metadata": {},
   "outputs": [],
   "source": [
    "tr['amount'] = tr['amount'].astype(float)"
   ]
  },
  {
   "cell_type": "code",
   "execution_count": 29,
   "id": "d66cdbe3-e6f2-473f-9404-5b1490ec773c",
   "metadata": {},
   "outputs": [
    {
     "data": {
      "text/plain": [
       "id                       0\n",
       "date                     0\n",
       "client_id                0\n",
       "card_id                  0\n",
       "amount                   0\n",
       "use_chip                 0\n",
       "merchant_id              0\n",
       "merchant_city            0\n",
       "merchant_state     1563700\n",
       "zip                1652706\n",
       "mcc                      0\n",
       "errors            13094522\n",
       "dtype: int64"
      ]
     },
     "execution_count": 29,
     "metadata": {},
     "output_type": "execute_result"
    }
   ],
   "source": [
    "tr.isnull().sum()"
   ]
  },
  {
   "cell_type": "code",
   "execution_count": 30,
   "id": "7b968522-a783-4be7-bfde-eab3555e0e03",
   "metadata": {},
   "outputs": [],
   "source": [
    "tr_df1 = pd.merge(tr, df1, on='id', how='inner')"
   ]
  },
  {
   "cell_type": "code",
   "execution_count": 31,
   "id": "789c0812-a0ee-4de5-ad8f-4370fc0d1220",
   "metadata": {},
   "outputs": [],
   "source": [
    "tr_df1_df2 = pd.merge(tr_df1, df2, on = 'mcc', how = 'inner')"
   ]
  },
  {
   "cell_type": "code",
   "execution_count": 32,
   "id": "5d60aea4-bfe0-4585-98e5-bda9ae93aabd",
   "metadata": {},
   "outputs": [
    {
     "data": {
      "text/html": [
       "<div>\n",
       "<style scoped>\n",
       "    .dataframe tbody tr th:only-of-type {\n",
       "        vertical-align: middle;\n",
       "    }\n",
       "\n",
       "    .dataframe tbody tr th {\n",
       "        vertical-align: top;\n",
       "    }\n",
       "\n",
       "    .dataframe thead th {\n",
       "        text-align: right;\n",
       "    }\n",
       "</style>\n",
       "<table border=\"1\" class=\"dataframe\">\n",
       "  <thead>\n",
       "    <tr style=\"text-align: right;\">\n",
       "      <th></th>\n",
       "      <th>id</th>\n",
       "      <th>date</th>\n",
       "      <th>client_id</th>\n",
       "      <th>card_id</th>\n",
       "      <th>amount</th>\n",
       "      <th>use_chip</th>\n",
       "      <th>merchant_id</th>\n",
       "      <th>merchant_city</th>\n",
       "      <th>merchant_state</th>\n",
       "      <th>zip</th>\n",
       "      <th>mcc</th>\n",
       "      <th>errors</th>\n",
       "      <th>Status</th>\n",
       "      <th>Name</th>\n",
       "    </tr>\n",
       "  </thead>\n",
       "  <tbody>\n",
       "    <tr>\n",
       "      <th>0</th>\n",
       "      <td>7475327</td>\n",
       "      <td>2010-01-01 00:01:00</td>\n",
       "      <td>1556</td>\n",
       "      <td>2972</td>\n",
       "      <td>-77.00</td>\n",
       "      <td>Swipe Transaction</td>\n",
       "      <td>59935</td>\n",
       "      <td>Beulah</td>\n",
       "      <td>ND</td>\n",
       "      <td>58523.0</td>\n",
       "      <td>5499</td>\n",
       "      <td>NaN</td>\n",
       "      <td>No</td>\n",
       "      <td>Miscellaneous Food Stores</td>\n",
       "    </tr>\n",
       "    <tr>\n",
       "      <th>1</th>\n",
       "      <td>7475340</td>\n",
       "      <td>2010-01-01 00:26:00</td>\n",
       "      <td>1556</td>\n",
       "      <td>2972</td>\n",
       "      <td>39.63</td>\n",
       "      <td>Swipe Transaction</td>\n",
       "      <td>59935</td>\n",
       "      <td>Beulah</td>\n",
       "      <td>ND</td>\n",
       "      <td>58523.0</td>\n",
       "      <td>5499</td>\n",
       "      <td>NaN</td>\n",
       "      <td>No</td>\n",
       "      <td>Miscellaneous Food Stores</td>\n",
       "    </tr>\n",
       "    <tr>\n",
       "      <th>2</th>\n",
       "      <td>7475366</td>\n",
       "      <td>2010-01-01 01:03:00</td>\n",
       "      <td>1703</td>\n",
       "      <td>2969</td>\n",
       "      <td>78.00</td>\n",
       "      <td>Swipe Transaction</td>\n",
       "      <td>43293</td>\n",
       "      <td>Grand Junction</td>\n",
       "      <td>CO</td>\n",
       "      <td>81506.0</td>\n",
       "      <td>5499</td>\n",
       "      <td>NaN</td>\n",
       "      <td>No</td>\n",
       "      <td>Miscellaneous Food Stores</td>\n",
       "    </tr>\n",
       "    <tr>\n",
       "      <th>3</th>\n",
       "      <td>7475379</td>\n",
       "      <td>2010-01-01 01:22:00</td>\n",
       "      <td>986</td>\n",
       "      <td>4755</td>\n",
       "      <td>1.85</td>\n",
       "      <td>Swipe Transaction</td>\n",
       "      <td>14528</td>\n",
       "      <td>Garden City</td>\n",
       "      <td>NY</td>\n",
       "      <td>11530.0</td>\n",
       "      <td>5499</td>\n",
       "      <td>NaN</td>\n",
       "      <td>No</td>\n",
       "      <td>Miscellaneous Food Stores</td>\n",
       "    </tr>\n",
       "    <tr>\n",
       "      <th>4</th>\n",
       "      <td>7475380</td>\n",
       "      <td>2010-01-01 01:23:00</td>\n",
       "      <td>1703</td>\n",
       "      <td>2969</td>\n",
       "      <td>71.72</td>\n",
       "      <td>Swipe Transaction</td>\n",
       "      <td>43293</td>\n",
       "      <td>Grand Junction</td>\n",
       "      <td>CO</td>\n",
       "      <td>81506.0</td>\n",
       "      <td>5499</td>\n",
       "      <td>NaN</td>\n",
       "      <td>No</td>\n",
       "      <td>Miscellaneous Food Stores</td>\n",
       "    </tr>\n",
       "  </tbody>\n",
       "</table>\n",
       "</div>"
      ],
      "text/plain": [
       "        id                 date  client_id  card_id  amount  \\\n",
       "0  7475327  2010-01-01 00:01:00       1556     2972  -77.00   \n",
       "1  7475340  2010-01-01 00:26:00       1556     2972   39.63   \n",
       "2  7475366  2010-01-01 01:03:00       1703     2969   78.00   \n",
       "3  7475379  2010-01-01 01:22:00        986     4755    1.85   \n",
       "4  7475380  2010-01-01 01:23:00       1703     2969   71.72   \n",
       "\n",
       "            use_chip  merchant_id   merchant_city merchant_state      zip  \\\n",
       "0  Swipe Transaction        59935          Beulah             ND  58523.0   \n",
       "1  Swipe Transaction        59935          Beulah             ND  58523.0   \n",
       "2  Swipe Transaction        43293  Grand Junction             CO  81506.0   \n",
       "3  Swipe Transaction        14528     Garden City             NY  11530.0   \n",
       "4  Swipe Transaction        43293  Grand Junction             CO  81506.0   \n",
       "\n",
       "    mcc errors Status                       Name  \n",
       "0  5499    NaN     No  Miscellaneous Food Stores  \n",
       "1  5499    NaN     No  Miscellaneous Food Stores  \n",
       "2  5499    NaN     No  Miscellaneous Food Stores  \n",
       "3  5499    NaN     No  Miscellaneous Food Stores  \n",
       "4  5499    NaN     No  Miscellaneous Food Stores  "
      ]
     },
     "execution_count": 32,
     "metadata": {},
     "output_type": "execute_result"
    }
   ],
   "source": [
    "tr_df1_df2.head()"
   ]
  },
  {
   "cell_type": "code",
   "execution_count": 33,
   "id": "19c72f5a-61c6-41a1-bb09-3fb12bb2cd36",
   "metadata": {},
   "outputs": [
    {
     "name": "stdout",
     "output_type": "stream",
     "text": [
      "<class 'pandas.core.frame.DataFrame'>\n",
      "RangeIndex: 8914963 entries, 0 to 8914962\n",
      "Data columns (total 14 columns):\n",
      " #   Column          Dtype  \n",
      "---  ------          -----  \n",
      " 0   id              int64  \n",
      " 1   date            object \n",
      " 2   client_id       int64  \n",
      " 3   card_id         int64  \n",
      " 4   amount          float64\n",
      " 5   use_chip        object \n",
      " 6   merchant_id     int64  \n",
      " 7   merchant_city   object \n",
      " 8   merchant_state  object \n",
      " 9   zip             float64\n",
      " 10  mcc             int64  \n",
      " 11  errors          object \n",
      " 12  Status          object \n",
      " 13  Name            object \n",
      "dtypes: float64(2), int64(5), object(7)\n",
      "memory usage: 952.2+ MB\n"
     ]
    }
   ],
   "source": [
    "tr_df1_df2.info()"
   ]
  },
  {
   "cell_type": "code",
   "execution_count": 34,
   "id": "1f512afa-1fc3-40b0-991c-017989b66ba4",
   "metadata": {},
   "outputs": [
    {
     "name": "stdout",
     "output_type": "stream",
     "text": [
      "<class 'pandas.core.frame.DataFrame'>\n",
      "RangeIndex: 2000 entries, 0 to 1999\n",
      "Data columns (total 26 columns):\n",
      " #   Column                 Non-Null Count  Dtype         \n",
      "---  ------                 --------------  -----         \n",
      " 0   id                     2000 non-null   int64         \n",
      " 1   current_age            2000 non-null   int64         \n",
      " 2   retirement_age         2000 non-null   int64         \n",
      " 3   birth_year             2000 non-null   int64         \n",
      " 4   birth_month            2000 non-null   int64         \n",
      " 5   gender                 2000 non-null   object        \n",
      " 6   address                2000 non-null   object        \n",
      " 7   latitude               2000 non-null   float64       \n",
      " 8   longitude              2000 non-null   float64       \n",
      " 9   per_capita_income      2000 non-null   int32         \n",
      " 10  yearly_income          2000 non-null   int32         \n",
      " 11  total_debt             2000 non-null   int32         \n",
      " 12  credit_score           2000 non-null   int64         \n",
      " 13  num_credit_cards       2000 non-null   int64         \n",
      " 14  client_id              2000 non-null   int64         \n",
      " 15  card_brand             2000 non-null   object        \n",
      " 16  card_type              2000 non-null   object        \n",
      " 17  card_number            2000 non-null   int64         \n",
      " 18  expires                2000 non-null   datetime64[ns]\n",
      " 19  cvv                    2000 non-null   int64         \n",
      " 20  has_chip               2000 non-null   object        \n",
      " 21  num_cards_issued       2000 non-null   int64         \n",
      " 22  credit_limit           2000 non-null   int32         \n",
      " 23  acct_open_date         2000 non-null   datetime64[ns]\n",
      " 24  year_pin_last_changed  2000 non-null   int64         \n",
      " 25  card_on_dark_web       2000 non-null   object        \n",
      "dtypes: datetime64[ns](2), float64(2), int32(4), int64(12), object(6)\n",
      "memory usage: 375.1+ KB\n"
     ]
    }
   ],
   "source": [
    "users_card.info()"
   ]
  },
  {
   "cell_type": "code",
   "execution_count": 35,
   "id": "e74170e7-3fbc-4e34-aa14-b1a2bcbfa995",
   "metadata": {},
   "outputs": [],
   "source": [
    "df = pd.merge(tr_df1_df2,users_card, on='id', how='inner')"
   ]
  },
  {
   "cell_type": "code",
   "execution_count": 36,
   "id": "e100d672-237b-440d-8459-e23e9c89abce",
   "metadata": {},
   "outputs": [
    {
     "name": "stdout",
     "output_type": "stream",
     "text": [
      "<class 'pandas.core.frame.DataFrame'>\n",
      "RangeIndex: 0 entries\n",
      "Data columns (total 39 columns):\n",
      " #   Column                 Non-Null Count  Dtype         \n",
      "---  ------                 --------------  -----         \n",
      " 0   id                     0 non-null      int64         \n",
      " 1   date                   0 non-null      object        \n",
      " 2   client_id_x            0 non-null      int64         \n",
      " 3   card_id                0 non-null      int64         \n",
      " 4   amount                 0 non-null      float64       \n",
      " 5   use_chip               0 non-null      object        \n",
      " 6   merchant_id            0 non-null      int64         \n",
      " 7   merchant_city          0 non-null      object        \n",
      " 8   merchant_state         0 non-null      object        \n",
      " 9   zip                    0 non-null      float64       \n",
      " 10  mcc                    0 non-null      int64         \n",
      " 11  errors                 0 non-null      object        \n",
      " 12  Status                 0 non-null      object        \n",
      " 13  Name                   0 non-null      object        \n",
      " 14  current_age            0 non-null      int64         \n",
      " 15  retirement_age         0 non-null      int64         \n",
      " 16  birth_year             0 non-null      int64         \n",
      " 17  birth_month            0 non-null      int64         \n",
      " 18  gender                 0 non-null      object        \n",
      " 19  address                0 non-null      object        \n",
      " 20  latitude               0 non-null      float64       \n",
      " 21  longitude              0 non-null      float64       \n",
      " 22  per_capita_income      0 non-null      int32         \n",
      " 23  yearly_income          0 non-null      int32         \n",
      " 24  total_debt             0 non-null      int32         \n",
      " 25  credit_score           0 non-null      int64         \n",
      " 26  num_credit_cards       0 non-null      int64         \n",
      " 27  client_id_y            0 non-null      int64         \n",
      " 28  card_brand             0 non-null      object        \n",
      " 29  card_type              0 non-null      object        \n",
      " 30  card_number            0 non-null      int64         \n",
      " 31  expires                0 non-null      datetime64[ns]\n",
      " 32  cvv                    0 non-null      int64         \n",
      " 33  has_chip               0 non-null      object        \n",
      " 34  num_cards_issued       0 non-null      int64         \n",
      " 35  credit_limit           0 non-null      int32         \n",
      " 36  acct_open_date         0 non-null      datetime64[ns]\n",
      " 37  year_pin_last_changed  0 non-null      int64         \n",
      " 38  card_on_dark_web       0 non-null      object        \n",
      "dtypes: datetime64[ns](2), float64(4), int32(4), int64(16), object(13)\n",
      "memory usage: 132.0+ bytes\n"
     ]
    }
   ],
   "source": [
    "df.info()#id's are differet :("
   ]
  },
  {
   "cell_type": "code",
   "execution_count": 37,
   "id": "0a920da7-2c72-4b8e-8fe5-6859c3c2fd4b",
   "metadata": {},
   "outputs": [
    {
     "name": "stdout",
     "output_type": "stream",
     "text": [
      "date\n",
      "2013-01-07 12:53:00    14\n",
      "2018-11-23 07:16:00    14\n",
      "2016-09-15 11:06:00    13\n",
      "2017-07-25 11:13:00    13\n",
      "2015-11-08 09:03:00    13\n",
      "                       ..\n",
      "2013-11-17 20:33:00     1\n",
      "2013-11-17 18:44:00     1\n",
      "2013-11-17 17:02:00     1\n",
      "2013-11-17 15:43:00     1\n",
      "2019-08-07 05:23:00     1\n",
      "Name: count, Length: 3680988, dtype: int64\n",
      "********************************************************************************\n",
      "use_chip\n",
      "Swipe Transaction     4668212\n",
      "Chip Transaction      3202776\n",
      "Online Transaction    1043975\n",
      "Name: count, dtype: int64\n",
      "********************************************************************************\n",
      "merchant_city\n",
      "ONLINE         1047865\n",
      "Houston          98502\n",
      "Miami            58680\n",
      "Brooklyn         56173\n",
      "Los Angeles      54969\n",
      "                ...   \n",
      "Delco                1\n",
      "Geff                 1\n",
      "What Cheer           1\n",
      "Guy                  1\n",
      "Long Bottom          1\n",
      "Name: count, Length: 12173, dtype: int64\n",
      "********************************************************************************\n",
      "merchant_state\n",
      "CA                   956356\n",
      "TX                   677139\n",
      "NY                   574521\n",
      "FL                   469600\n",
      "OH                   324098\n",
      "                      ...  \n",
      "Albania                   2\n",
      "Equatorial Guinea         2\n",
      "Ethiopia                  1\n",
      "Azerbaijan                1\n",
      "Tonga                     1\n",
      "Name: count, Length: 199, dtype: int64\n",
      "********************************************************************************\n",
      "errors\n",
      "Insufficient Balance                                   87686\n",
      "Bad PIN                                                21488\n",
      "Technical Glitch                                       17776\n",
      "Bad Card Number                                         5235\n",
      "Bad CVV                                                 4091\n",
      "Bad Expiration                                          4086\n",
      "Bad Zipcode                                              767\n",
      "Bad PIN,Insufficient Balance                             198\n",
      "Insufficient Balance,Technical Glitch                    163\n",
      "Bad Card Number,Insufficient Balance                      50\n",
      "Bad PIN,Technical Glitch                                  44\n",
      "Bad CVV,Insufficient Balance                              40\n",
      "Bad Expiration,Insufficient Balance                       34\n",
      "Bad Card Number,Bad Expiration                            28\n",
      "Bad Card Number,Bad CVV                                   26\n",
      "Bad Expiration,Bad CVV                                    21\n",
      "Bad Expiration,Technical Glitch                           11\n",
      "Bad Card Number,Technical Glitch                          10\n",
      "Bad CVV,Technical Glitch                                   5\n",
      "Bad Zipcode,Technical Glitch                               4\n",
      "Bad Zipcode,Insufficient Balance                           3\n",
      "Bad Card Number,Bad Expiration,Insufficient Balance        1\n",
      "Name: count, dtype: int64\n",
      "********************************************************************************\n",
      "Status\n",
      "No     8901631\n",
      "Yes      13332\n",
      "Name: count, dtype: int64\n",
      "********************************************************************************\n",
      "Name\n",
      "Grocery Stores, Supermarkets               1066833\n",
      "Miscellaneous Food Stores                   979396\n",
      "Service Stations                            955123\n",
      "Eating Places and Restaurants               669808\n",
      "Drug Stores and Pharmacies                  517400\n",
      "                                            ...   \n",
      "Miscellaneous Fabricated Metal Products        245\n",
      "Bolt, Nut, Screw, Rivet Manufacturing          236\n",
      "Household Appliance Stores                     226\n",
      "Floor Covering Stores                          222\n",
      "Music Stores - Musical Instruments             204\n",
      "Name: count, Length: 108, dtype: int64\n",
      "********************************************************************************\n"
     ]
    }
   ],
   "source": [
    "for i in tr_df1_df2.select_dtypes(include='object').columns:\n",
    "    print(tr_df1_df2[i].value_counts())\n",
    "    print('****'*20)"
   ]
  },
  {
   "cell_type": "code",
   "execution_count": 38,
   "id": "414900ca-c023-4537-ae7d-e6b473638818",
   "metadata": {},
   "outputs": [],
   "source": [
    "df = tr_df1_df2.copy()"
   ]
  },
  {
   "cell_type": "code",
   "execution_count": 39,
   "id": "a57debd9-52ca-4f1c-bd3b-d25bef331ee3",
   "metadata": {},
   "outputs": [],
   "source": [
    "df=df.drop([\"date\"],axis=1)"
   ]
  },
  {
   "cell_type": "code",
   "execution_count": 40,
   "id": "19ab410e-707b-48b9-971a-9faa4faa3837",
   "metadata": {},
   "outputs": [],
   "source": [
    "df = pd.get_dummies(df, columns=['use_chip'])"
   ]
  },
  {
   "cell_type": "code",
   "execution_count": 41,
   "id": "518cc362-98de-445d-a393-ec8edf594714",
   "metadata": {},
   "outputs": [],
   "source": [
    "df=df.drop([\"merchant_city\"],axis=1)"
   ]
  },
  {
   "cell_type": "code",
   "execution_count": 42,
   "id": "4a500c28-560d-4469-a506-bb942c91a0dd",
   "metadata": {},
   "outputs": [],
   "source": [
    "df=df.drop([\"merchant_state\"],axis=1)"
   ]
  },
  {
   "cell_type": "code",
   "execution_count": 43,
   "id": "f0fd8aea-e869-421f-907a-34601f527fef",
   "metadata": {},
   "outputs": [],
   "source": [
    "df = pd.get_dummies(df, columns=['errors'])"
   ]
  },
  {
   "cell_type": "code",
   "execution_count": 44,
   "id": "dc259ebe-6b10-4461-a55f-4828ef577051",
   "metadata": {},
   "outputs": [],
   "source": [
    "df = pd.get_dummies(df, columns=['Status'])"
   ]
  },
  {
   "cell_type": "code",
   "execution_count": 45,
   "id": "dbcf52dd-a4eb-4964-8e7d-07df68796948",
   "metadata": {},
   "outputs": [],
   "source": [
    "df=df.drop([\"Status_No\"],axis=1)"
   ]
  },
  {
   "cell_type": "code",
   "execution_count": 46,
   "id": "91c27fc4-9707-462b-8911-a302c5964b1f",
   "metadata": {},
   "outputs": [],
   "source": [
    "df = pd.get_dummies(df, columns=['Name'])"
   ]
  },
  {
   "cell_type": "code",
   "execution_count": 47,
   "id": "7d3f0506-bbad-4d94-8612-b6955748db1a",
   "metadata": {},
   "outputs": [
    {
     "data": {
      "text/plain": [
       "use_chip_Swipe Transaction                -0.032572\n",
       "mcc                                       -0.015118\n",
       "Name_Miscellaneous Food Stores            -0.012380\n",
       "Name_Service Stations                     -0.011829\n",
       "Name_Grocery Stores, Supermarkets         -0.010468\n",
       "                                             ...   \n",
       "Name_Music Stores - Musical Instruments    0.045934\n",
       "Name_Electronics Stores                    0.050007\n",
       "use_chip_Online Transaction                0.065160\n",
       "Name_Cruise Lines                          0.085867\n",
       "Status_Yes                                 1.000000\n",
       "Name: Status_Yes, Length: 141, dtype: float64"
      ]
     },
     "execution_count": 47,
     "metadata": {},
     "output_type": "execute_result"
    }
   ],
   "source": [
    "corr_matrix=df.corr()\n",
    "corr_matrix[\"Status_Yes\"].sort_values()"
   ]
  },
  {
   "cell_type": "code",
   "execution_count": 48,
   "id": "39e6ef57-2526-4bf4-b9a1-126ff306e920",
   "metadata": {},
   "outputs": [],
   "source": [
    "sorted_corr=corr_matrix[\"Status_Yes\"].sort_values()"
   ]
  },
  {
   "cell_type": "code",
   "execution_count": 49,
   "id": "0ecf1c3f-8ef0-42e7-9aa1-d3193f90834a",
   "metadata": {},
   "outputs": [
    {
     "name": "stdout",
     "output_type": "stream",
     "text": [
      "use_chip_Swipe Transaction                               -0.032572\n",
      "mcc                                                      -0.015118\n",
      "Name_Miscellaneous Food Stores                           -0.012380\n",
      "Name_Service Stations                                    -0.011829\n",
      "Name_Grocery Stores, Supermarkets                        -0.010468\n",
      "use_chip_Chip Transaction                                -0.009763\n",
      "Name_Eating Places and Restaurants                       -0.009698\n",
      "Name_Tolls and Bridge Fees                               -0.008942\n",
      "Name_Automotive Parts and Accessories Stores              0.008509\n",
      "Name_Steel Drums and Barrels                              0.008754\n",
      "Name_Cosmetic Stores                                      0.008815\n",
      "Name_Coated and Laminated Products                        0.008929\n",
      "Name_Non-Precious Metal Services                          0.009483\n",
      "Name_Industrial Equipment and Supplies                    0.009536\n",
      "Name_Bus Lines                                            0.009548\n",
      "Name_Florists Supplies, Nursery Stock and Flowers         0.009691\n",
      "Name_Gardening Supplies                                   0.010151\n",
      "Name_Amusement Parks, Carnivals, Circuses                 0.010986\n",
      "Name_Antique Shops                                        0.011005\n",
      "Name_Fabricated Structural Metal Products                 0.011326\n",
      "Name_Miscellaneous Metal Fabrication                      0.011710\n",
      "Name_Family Clothing Stores                               0.012304\n",
      "Name_Discount Stores                                      0.013132\n",
      "Name_Floor Covering Stores                                0.013186\n",
      "Name_Miscellaneous Fabricated Metal Products              0.015855\n",
      "Name_Digital Goods - Media, Books, Apps                   0.016380\n",
      "Name_Passenger Railways                                   0.017527\n",
      "errors_Bad CVV                                            0.018011\n",
      "Name_Digital Goods - Games                                0.021312\n",
      "Name_Department Stores                                    0.027755\n",
      "Name_Furniture, Home Furnishings, and Equipment Stores    0.028239\n",
      "amount                                                    0.031940\n",
      "Name_Precious Stones and Metals                           0.034565\n",
      "Name_Computers, Computer Peripheral Equipment             0.040188\n",
      "Name_Music Stores - Musical Instruments                   0.045934\n",
      "Name_Electronics Stores                                   0.050007\n",
      "use_chip_Online Transaction                               0.065160\n",
      "Name_Cruise Lines                                         0.085867\n",
      "Status_Yes                                                1.000000\n",
      "Name: Status_Yes, dtype: float64\n"
     ]
    }
   ],
   "source": [
    "filtered_corr = sorted_corr[(sorted_corr > 0.0085) | (sorted_corr < -0.0085)]\n",
    "print(filtered_corr)"
   ]
  },
  {
   "cell_type": "code",
   "execution_count": 50,
   "id": "5a60b7f7-301f-41e5-b45a-d63fb7bbde09",
   "metadata": {},
   "outputs": [
    {
     "data": {
      "text/html": [
       "<div>\n",
       "<style scoped>\n",
       "    .dataframe tbody tr th:only-of-type {\n",
       "        vertical-align: middle;\n",
       "    }\n",
       "\n",
       "    .dataframe tbody tr th {\n",
       "        vertical-align: top;\n",
       "    }\n",
       "\n",
       "    .dataframe thead th {\n",
       "        text-align: right;\n",
       "    }\n",
       "</style>\n",
       "<table border=\"1\" class=\"dataframe\">\n",
       "  <thead>\n",
       "    <tr style=\"text-align: right;\">\n",
       "      <th></th>\n",
       "      <th>use_chip_Swipe Transaction</th>\n",
       "      <th>mcc</th>\n",
       "      <th>Name_Miscellaneous Food Stores</th>\n",
       "      <th>Name_Service Stations</th>\n",
       "      <th>Name_Grocery Stores, Supermarkets</th>\n",
       "      <th>use_chip_Chip Transaction</th>\n",
       "      <th>Name_Eating Places and Restaurants</th>\n",
       "      <th>Name_Tolls and Bridge Fees</th>\n",
       "      <th>Name_Automotive Parts and Accessories Stores</th>\n",
       "      <th>Name_Steel Drums and Barrels</th>\n",
       "      <th>...</th>\n",
       "      <th>Name_Department Stores</th>\n",
       "      <th>Name_Furniture, Home Furnishings, and Equipment Stores</th>\n",
       "      <th>amount</th>\n",
       "      <th>Name_Precious Stones and Metals</th>\n",
       "      <th>Name_Computers, Computer Peripheral Equipment</th>\n",
       "      <th>Name_Music Stores - Musical Instruments</th>\n",
       "      <th>Name_Electronics Stores</th>\n",
       "      <th>use_chip_Online Transaction</th>\n",
       "      <th>Name_Cruise Lines</th>\n",
       "      <th>Status_Yes</th>\n",
       "    </tr>\n",
       "  </thead>\n",
       "  <tbody>\n",
       "    <tr>\n",
       "      <th>0</th>\n",
       "      <td>True</td>\n",
       "      <td>5499</td>\n",
       "      <td>True</td>\n",
       "      <td>False</td>\n",
       "      <td>False</td>\n",
       "      <td>False</td>\n",
       "      <td>False</td>\n",
       "      <td>False</td>\n",
       "      <td>False</td>\n",
       "      <td>False</td>\n",
       "      <td>...</td>\n",
       "      <td>False</td>\n",
       "      <td>False</td>\n",
       "      <td>-77.00</td>\n",
       "      <td>False</td>\n",
       "      <td>False</td>\n",
       "      <td>False</td>\n",
       "      <td>False</td>\n",
       "      <td>False</td>\n",
       "      <td>False</td>\n",
       "      <td>False</td>\n",
       "    </tr>\n",
       "    <tr>\n",
       "      <th>1</th>\n",
       "      <td>True</td>\n",
       "      <td>5499</td>\n",
       "      <td>True</td>\n",
       "      <td>False</td>\n",
       "      <td>False</td>\n",
       "      <td>False</td>\n",
       "      <td>False</td>\n",
       "      <td>False</td>\n",
       "      <td>False</td>\n",
       "      <td>False</td>\n",
       "      <td>...</td>\n",
       "      <td>False</td>\n",
       "      <td>False</td>\n",
       "      <td>39.63</td>\n",
       "      <td>False</td>\n",
       "      <td>False</td>\n",
       "      <td>False</td>\n",
       "      <td>False</td>\n",
       "      <td>False</td>\n",
       "      <td>False</td>\n",
       "      <td>False</td>\n",
       "    </tr>\n",
       "    <tr>\n",
       "      <th>2</th>\n",
       "      <td>True</td>\n",
       "      <td>5499</td>\n",
       "      <td>True</td>\n",
       "      <td>False</td>\n",
       "      <td>False</td>\n",
       "      <td>False</td>\n",
       "      <td>False</td>\n",
       "      <td>False</td>\n",
       "      <td>False</td>\n",
       "      <td>False</td>\n",
       "      <td>...</td>\n",
       "      <td>False</td>\n",
       "      <td>False</td>\n",
       "      <td>78.00</td>\n",
       "      <td>False</td>\n",
       "      <td>False</td>\n",
       "      <td>False</td>\n",
       "      <td>False</td>\n",
       "      <td>False</td>\n",
       "      <td>False</td>\n",
       "      <td>False</td>\n",
       "    </tr>\n",
       "    <tr>\n",
       "      <th>3</th>\n",
       "      <td>True</td>\n",
       "      <td>5499</td>\n",
       "      <td>True</td>\n",
       "      <td>False</td>\n",
       "      <td>False</td>\n",
       "      <td>False</td>\n",
       "      <td>False</td>\n",
       "      <td>False</td>\n",
       "      <td>False</td>\n",
       "      <td>False</td>\n",
       "      <td>...</td>\n",
       "      <td>False</td>\n",
       "      <td>False</td>\n",
       "      <td>1.85</td>\n",
       "      <td>False</td>\n",
       "      <td>False</td>\n",
       "      <td>False</td>\n",
       "      <td>False</td>\n",
       "      <td>False</td>\n",
       "      <td>False</td>\n",
       "      <td>False</td>\n",
       "    </tr>\n",
       "    <tr>\n",
       "      <th>4</th>\n",
       "      <td>True</td>\n",
       "      <td>5499</td>\n",
       "      <td>True</td>\n",
       "      <td>False</td>\n",
       "      <td>False</td>\n",
       "      <td>False</td>\n",
       "      <td>False</td>\n",
       "      <td>False</td>\n",
       "      <td>False</td>\n",
       "      <td>False</td>\n",
       "      <td>...</td>\n",
       "      <td>False</td>\n",
       "      <td>False</td>\n",
       "      <td>71.72</td>\n",
       "      <td>False</td>\n",
       "      <td>False</td>\n",
       "      <td>False</td>\n",
       "      <td>False</td>\n",
       "      <td>False</td>\n",
       "      <td>False</td>\n",
       "      <td>False</td>\n",
       "    </tr>\n",
       "  </tbody>\n",
       "</table>\n",
       "<p>5 rows × 39 columns</p>\n",
       "</div>"
      ],
      "text/plain": [
       "   use_chip_Swipe Transaction   mcc  Name_Miscellaneous Food Stores  \\\n",
       "0                        True  5499                            True   \n",
       "1                        True  5499                            True   \n",
       "2                        True  5499                            True   \n",
       "3                        True  5499                            True   \n",
       "4                        True  5499                            True   \n",
       "\n",
       "   Name_Service Stations  Name_Grocery Stores, Supermarkets  \\\n",
       "0                  False                              False   \n",
       "1                  False                              False   \n",
       "2                  False                              False   \n",
       "3                  False                              False   \n",
       "4                  False                              False   \n",
       "\n",
       "   use_chip_Chip Transaction  Name_Eating Places and Restaurants  \\\n",
       "0                      False                               False   \n",
       "1                      False                               False   \n",
       "2                      False                               False   \n",
       "3                      False                               False   \n",
       "4                      False                               False   \n",
       "\n",
       "   Name_Tolls and Bridge Fees  Name_Automotive Parts and Accessories Stores  \\\n",
       "0                       False                                         False   \n",
       "1                       False                                         False   \n",
       "2                       False                                         False   \n",
       "3                       False                                         False   \n",
       "4                       False                                         False   \n",
       "\n",
       "   Name_Steel Drums and Barrels  ...  Name_Department Stores  \\\n",
       "0                         False  ...                   False   \n",
       "1                         False  ...                   False   \n",
       "2                         False  ...                   False   \n",
       "3                         False  ...                   False   \n",
       "4                         False  ...                   False   \n",
       "\n",
       "   Name_Furniture, Home Furnishings, and Equipment Stores  amount  \\\n",
       "0                                              False       -77.00   \n",
       "1                                              False        39.63   \n",
       "2                                              False        78.00   \n",
       "3                                              False         1.85   \n",
       "4                                              False        71.72   \n",
       "\n",
       "   Name_Precious Stones and Metals  \\\n",
       "0                            False   \n",
       "1                            False   \n",
       "2                            False   \n",
       "3                            False   \n",
       "4                            False   \n",
       "\n",
       "   Name_Computers, Computer Peripheral Equipment  \\\n",
       "0                                          False   \n",
       "1                                          False   \n",
       "2                                          False   \n",
       "3                                          False   \n",
       "4                                          False   \n",
       "\n",
       "   Name_Music Stores - Musical Instruments  Name_Electronics Stores  \\\n",
       "0                                    False                    False   \n",
       "1                                    False                    False   \n",
       "2                                    False                    False   \n",
       "3                                    False                    False   \n",
       "4                                    False                    False   \n",
       "\n",
       "   use_chip_Online Transaction  Name_Cruise Lines  Status_Yes  \n",
       "0                        False              False       False  \n",
       "1                        False              False       False  \n",
       "2                        False              False       False  \n",
       "3                        False              False       False  \n",
       "4                        False              False       False  \n",
       "\n",
       "[5 rows x 39 columns]"
      ]
     },
     "execution_count": 50,
     "metadata": {},
     "output_type": "execute_result"
    }
   ],
   "source": [
    "filtered_columns = filtered_corr.index.tolist()\n",
    "\n",
    "df= df[filtered_columns]\n",
    "\n",
    "df.head()"
   ]
  },
  {
   "cell_type": "code",
   "execution_count": 51,
   "id": "8f2b07a0-c230-4192-8d96-272de073c171",
   "metadata": {},
   "outputs": [],
   "source": [
    "X = df.drop(columns=['Status_Yes'])\n",
    "y = df['Status_Yes'] "
   ]
  },
  {
   "cell_type": "code",
   "execution_count": 53,
   "id": "5d5f9e73-7c42-4c75-93bd-d38b168a016d",
   "metadata": {},
   "outputs": [
    {
     "name": "stdout",
     "output_type": "stream",
     "text": [
      "X_train shape: (7131970, 38)\n",
      "X_test shape: (1782993, 38)\n",
      "y_train shape: (7131970,)\n",
      "y_test shape: (1782993,)\n"
     ]
    }
   ],
   "source": [
    "X_train, X_test, y_train, y_test = train_test_split(X, y, test_size=0.2, random_state=42)\n",
    "print(\"X_train shape:\", X_train.shape)\n",
    "print(\"X_test shape:\", X_test.shape)\n",
    "print(\"y_train shape:\", y_train.shape)\n",
    "print(\"y_test shape:\", y_test.shape)"
   ]
  },
  {
   "cell_type": "code",
   "execution_count": 55,
   "id": "41c6f398-8b20-4086-bf80-d3d0d7736deb",
   "metadata": {},
   "outputs": [],
   "source": [
    "from xgboost import XGBClassifier"
   ]
  },
  {
   "cell_type": "code",
   "execution_count": 56,
   "id": "9b274f57-d482-4b17-9fde-76163ec9cc16",
   "metadata": {},
   "outputs": [],
   "source": [
    "xgb_model = XGBClassifier().fit(X_train, y_train)"
   ]
  },
  {
   "cell_type": "code",
   "execution_count": 58,
   "id": "2d58fe41-f18a-4d4d-a4bd-fb6aac6bc042",
   "metadata": {},
   "outputs": [],
   "source": [
    "from sklearn.metrics import accuracy_score"
   ]
  },
  {
   "cell_type": "code",
   "execution_count": 59,
   "id": "e5c28d58-c7e7-466f-8a93-8dbea3eb36c8",
   "metadata": {},
   "outputs": [
    {
     "data": {
      "text/plain": [
       "0.9991250666716022"
      ]
     },
     "execution_count": 59,
     "metadata": {},
     "output_type": "execute_result"
    }
   ],
   "source": [
    "y_pred = xgb_model.predict(X_test)\n",
    "accuracy_score(y_test, y_pred)"
   ]
  },
  {
   "cell_type": "code",
   "execution_count": null,
   "id": "a46e516e-5a98-46bd-b17e-40e4bb917579",
   "metadata": {},
   "outputs": [],
   "source": []
  }
 ],
 "metadata": {
  "kernelspec": {
   "display_name": "Python 3 (ipykernel)",
   "language": "python",
   "name": "python3"
  },
  "language_info": {
   "codemirror_mode": {
    "name": "ipython",
    "version": 3
   },
   "file_extension": ".py",
   "mimetype": "text/x-python",
   "name": "python",
   "nbconvert_exporter": "python",
   "pygments_lexer": "ipython3",
   "version": "3.11.7"
  },
  "widgets": {
   "application/vnd.jupyter.widget-state+json": {
    "state": {},
    "version_major": 2,
    "version_minor": 0
   }
  }
 },
 "nbformat": 4,
 "nbformat_minor": 5
}
